{
 "cells": [
  {
   "cell_type": "markdown",
   "metadata": {},
   "source": [
    "# Parafac Sampler の詳細な検証\n",
    "\n",
    "- randam 周り\n",
    "- "
   ]
  },
  {
   "cell_type": "code",
   "execution_count": null,
   "metadata": {},
   "outputs": [],
   "source": [
    "# dim 5 ~ 7 ではこうなっている\n",
    "\n",
    "\"\"\" \n",
    "2024-11-03 09:37:19,145 - INFO - Experiment settings: {'name': 'bo_parafac_dim5_rank2_mask0.1_tradeoff3.0_seed4', 'seed': 4, 'dimensions': 5, 'iter_bo': 500, 'storage': 'sqlite:////app/results/dbs/2024-11-03_09-37-19_bo_parafac_dim5_rank2_mask0.1_tradeoff3.0_seed4.db', 'unique_sampling': False, 'cp_settings': {'rank': 2, 'als_iterations': 100, 'mask_ratio': 0.1, 'random_dist_type': 'uniform'}, 'acqf_settings': {'trade_off_param': 3.0, 'maximize': False}}\n",
    "2024-11-03 09:37:20,016 - INFO - Created new study 'bo_parafac_dim5_rank2_mask0.1_tradeoff3.0_seed4' in sqlite:////app/results/dbs/2024-11-03_09-37-19_bo_parafac_dim5_rank2_mask0.1_tradeoff3.0_seed4.db\n",
    "2024-11-03 09:37:20,054 - INFO - Using sample_independent for sampling.\n",
    "2024-11-03 09:37:20,064 - INFO - Using sample_independent for sampling.\n",
    "2024-11-03 09:37:20,072 - INFO - Using sample_independent for sampling.\n",
    "2024-11-03 09:37:20,079 - INFO - Using sample_independent for sampling.\n",
    "2024-11-03 09:37:20,086 - INFO - Using sample_independent for sampling.\n",
    "2024-11-03 09:37:21,065 - INFO - Candidate Mean Stats: {'Max': np.float64(64.0007913130576), 'Min': np.float64(64.0007913130576), 'Mean': np.float64(64.0007913130576), 'Std': np.float64(0.0)}\n",
    "2024-11-03 09:37:21,066 - INFO - Candidate Std Stats: {'Max': np.float64(0.005041275760494847), 'Min': np.float64(0.005041275760494847), 'Mean': np.float64(0.005041275760494847), 'Std': np.float64(0.0)}\n",
    "2024-11-03 09:37:23,236 - INFO - Candidate Mean Stats: {'Max': np.float64(17.0), 'Min': np.float64(17.0), 'Mean': np.float64(17.0), 'Std': np.float64(0.0)}\n",
    "2024-11-03 09:37:23,236 - INFO - Candidate Std Stats: {'Max': np.float64(0.0), 'Min': np.float64(0.0), 'Mean': np.float64(0.0), 'Std': np.float64(0.0)}\n",
    "2024-11-03 09:37:24,235 - INFO - Candidate Mean Stats: {'Max': np.float64(17.0), 'Min': np.float64(17.0), 'Mean': np.float64(17.0), 'Std': np.float64(0.0)}\n",
    "2024-11-03 09:37:24,236 - INFO - Candidate Std Stats: {'Max': np.float64(0.0), 'Min': np.float64(0.0), 'Mean': np.float64(0.0), 'Std': np.float64(0.0)}\n",
    "2024-11-03 09:37:25,514 - INFO - Candidate Mean Stats: {'Max': np.float64(17.0), 'Min': np.float64(17.0), 'Mean': np.float64(17.0), 'Std': np.float64(0.0)}\n",
    "2024-11-03 09:37:25,514 - INFO - Candidate Std Stats: {'Max': np.float64(0.0), 'Min': np.float64(0.0), 'Mean': \n",
    "~\n",
    "2024-11-03 09:51:19,216 - INFO - Candidate Std Stats: {'Max': np.float64(0.0), 'Min': np.float64(0.0), 'Mean': np.float64(0.0), 'Std': np.float64(0.0)}\n",
    "2024-11-03 09:51:20,216 - INFO - Candidate Mean Stats: {'Max': np.float64(17.0), 'Min': np.float64(17.0), 'Mean': np.float64(17.0), 'Std': np.float64(0.0)}\n",
    "2024-11-03 09:51:20,216 - INFO - Candidate Std Stats: {'Max': np.float64(0.0), 'Min': np.float64(0.0), 'Mean': np.float64(0.0), 'Std': np.float64(0.0)}\n",
    "2024-11-03 09:51:20,256 - INFO - Best value: 17.0\n",
    "2024-11-03 09:51:20,260 - INFO - Best params: {'x_0': 2, 'x_1': 2, 'x_2': -2, 'x_3': 2, 'x_4': -1}\n",
    "\"\"\""
   ]
  },
  {
   "cell_type": "code",
   "execution_count": null,
   "metadata": {},
   "outputs": [],
   "source": []
  },
  {
   "cell_type": "code",
   "execution_count": null,
   "metadata": {},
   "outputs": [],
   "source": []
  },
  {
   "cell_type": "code",
   "execution_count": null,
   "metadata": {},
   "outputs": [],
   "source": []
  },
  {
   "cell_type": "code",
   "execution_count": null,
   "metadata": {},
   "outputs": [],
   "source": []
  },
  {
   "cell_type": "code",
   "execution_count": null,
   "metadata": {},
   "outputs": [],
   "source": []
  },
  {
   "cell_type": "code",
   "execution_count": null,
   "metadata": {},
   "outputs": [],
   "source": []
  },
  {
   "cell_type": "code",
   "execution_count": null,
   "metadata": {},
   "outputs": [],
   "source": []
  },
  {
   "cell_type": "code",
   "execution_count": null,
   "metadata": {},
   "outputs": [],
   "source": []
  },
  {
   "cell_type": "code",
   "execution_count": null,
   "metadata": {},
   "outputs": [],
   "source": []
  }
 ],
 "metadata": {
  "kernelspec": {
   "display_name": "bo-env_v2",
   "language": "python",
   "name": "python3"
  },
  "language_info": {
   "name": "python",
   "version": "3.12.7"
  }
 },
 "nbformat": 4,
 "nbformat_minor": 2
}
