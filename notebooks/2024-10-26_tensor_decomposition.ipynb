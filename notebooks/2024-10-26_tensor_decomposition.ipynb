{
 "cells": [
  {
   "cell_type": "code",
   "execution_count": 3,
   "metadata": {},
   "outputs": [],
   "source": [
    "import os\n",
    "\n",
    "from _src import search_log_files\n",
    "from _src import LOG_DIR"
   ]
  },
  {
   "cell_type": "code",
   "execution_count": 4,
   "metadata": {},
   "outputs": [
    {
     "data": {
      "text/plain": [
       "['2024-10-26_08-49-13_benchmark_log_cores_8_rank0_tr.log',\n",
       " '2024-10-26_08-49-12_benchmark_log_cores_8_rank1_tr_als.log',\n",
       " '2024-10-26_08-49-13_benchmark_log_cores_8_rank2_tr.log',\n",
       " '2024-10-26_08-27-34_benchmark_log_cores_8_rank0_tt.log',\n",
       " '2024-10-26_08-27-34_benchmark_log_cores_8_rank0_parafac.log',\n",
       " '2024-10-26_08-49-12_benchmark_log_cores_8_rank1_tr_als_sampled.log',\n",
       " '2024-10-26_08-27-34_benchmark_log_cores_8_rank2_tt.log',\n",
       " '2024-10-26_08-49-12_benchmark_log_cores_8_rank2_tr_als_sampled.log',\n",
       " '2024-10-26_08-27-34_benchmark_log_cores_8_rank2_parafac.log',\n",
       " '2024-10-26_08-49-12_benchmark_log_cores_8_rank0_tr_als.log',\n",
       " '2024-10-26_08-49-13_benchmark_log_cores_8_rank1_tr.log',\n",
       " '2024-10-26_08-49-12_benchmark_log_cores_8_rank0_tr_als_sampled.log',\n",
       " '2024-10-26_08-27-34_benchmark_log_cores_8_rank1_tt.log',\n",
       " '2024-10-26_08-49-12_benchmark_log_cores_8_rank2_tr_als.log',\n",
       " '2024-10-26_08-27-34_benchmark_log_cores_8_rank1_parafac.log']"
      ]
     },
     "execution_count": 4,
     "metadata": {},
     "output_type": "execute_result"
    }
   ],
   "source": [
    "os.listdir(LOG_DIR)"
   ]
  },
  {
   "cell_type": "code",
   "execution_count": null,
   "metadata": {},
   "outputs": [],
   "source": []
  },
  {
   "cell_type": "code",
   "execution_count": null,
   "metadata": {},
   "outputs": [],
   "source": []
  },
  {
   "cell_type": "code",
   "execution_count": null,
   "metadata": {},
   "outputs": [],
   "source": []
  },
  {
   "cell_type": "code",
   "execution_count": null,
   "metadata": {},
   "outputs": [],
   "source": []
  },
  {
   "cell_type": "code",
   "execution_count": null,
   "metadata": {},
   "outputs": [],
   "source": []
  },
  {
   "cell_type": "code",
   "execution_count": null,
   "metadata": {},
   "outputs": [],
   "source": []
  },
  {
   "cell_type": "code",
   "execution_count": null,
   "metadata": {},
   "outputs": [],
   "source": []
  }
 ],
 "metadata": {
  "kernelspec": {
   "display_name": "bo-env_v2",
   "language": "python",
   "name": "python3"
  },
  "language_info": {
   "codemirror_mode": {
    "name": "ipython",
    "version": 3
   },
   "file_extension": ".py",
   "mimetype": "text/x-python",
   "name": "python",
   "nbconvert_exporter": "python",
   "pygments_lexer": "ipython3",
   "version": "3.12.7"
  }
 },
 "nbformat": 4,
 "nbformat_minor": 2
}
