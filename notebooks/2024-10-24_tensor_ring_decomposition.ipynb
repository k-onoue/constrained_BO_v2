{
 "cells": [
  {
   "cell_type": "code",
   "execution_count": 2,
   "metadata": {},
   "outputs": [
    {
     "name": "stdout",
     "output_type": "stream",
     "text": [
      "Reconstruction error: 1.6990141105187775\n"
     ]
    }
   ],
   "source": [
    "import numpy as np\n",
    "import tensorly as tl\n",
    "from tensorly import tr_to_tensor\n",
    "from tensorly.decomposition import tensor_ring\n",
    "\n",
    "# サンプルの3次元テンソルを生成\n",
    "tensor = tl.tensor(np.random.rand(4, 5, 6))\n",
    "\n",
    "# Tensor Ring分解を行う\n",
    "rank = [1, 3, 3, 1]  # Tensor Ringのランクを指定\n",
    "factors = tensor_ring(tensor, rank=rank)\n",
    "\n",
    "# 分解されたテンソル（コア）を使ってフルテンソルを再構築\n",
    "reconstructed_tensor = tr_to_tensor(factors)\n",
    "\n",
    "# 元のテンソルと再構築されたテンソルの差を確認\n",
    "error = tl.norm(tensor - reconstructed_tensor)\n",
    "print(f\"Reconstruction error: {error}\")\n"
   ]
  },
  {
   "cell_type": "code",
   "execution_count": 5,
   "metadata": {},
   "outputs": [
    {
     "data": {
      "text/plain": [
       "factors list : rank-(1, 3, 3, 1) tensor ring tensor of shape (4, 5, 6)"
      ]
     },
     "execution_count": 5,
     "metadata": {},
     "output_type": "execute_result"
    }
   ],
   "source": [
    "factors"
   ]
  },
  {
   "cell_type": "code",
   "execution_count": null,
   "metadata": {},
   "outputs": [],
   "source": []
  },
  {
   "cell_type": "code",
   "execution_count": 2,
   "metadata": {},
   "outputs": [
    {
     "name": "stdout",
     "output_type": "stream",
     "text": [
      "Tensor Ring cores:\n",
      "(1, 5, 3)\n",
      "(3, 6, 4)\n",
      "(4, 7, 1)\n",
      "Reconstruction error: 2.991966286917198\n"
     ]
    }
   ],
   "source": [
    "import tensorly as tl\n",
    "from tensorly.decomposition import tensor_ring\n",
    "import numpy as np\n",
    "\n",
    "# Generate a random tensor of shape (5, 6, 7)\n",
    "tensor = tl.tensor(np.random.random((5, 6, 7)))\n",
    "\n",
    "# Define the ranks for the Tensor Ring decomposition\n",
    "# The rank controls the size of the internal TR cores\n",
    "rank = [1, 3, 4, 1]  # Rank size is len(shape) + 1, so for 3D tensor: 1 (boundary), 3, 4, 1\n",
    "\n",
    "# Perform Tensor Ring decomposition\n",
    "tr_factors = tensor_ring(tensor, rank=rank)\n",
    "\n",
    "# Print the decomposed TR cores\n",
    "print(\"Tensor Ring cores:\")\n",
    "for core in tr_factors:\n",
    "    print(core.shape)\n",
    "\n",
    "# Reconstruct the tensor from the Tensor Ring factors\n",
    "reconstructed_tensor = tl.tr_to_tensor(tr_factors)\n",
    "\n",
    "# Compare the original and reconstructed tensor\n",
    "reconstruction_error = tl.norm(tensor - reconstructed_tensor)\n",
    "print(f'Reconstruction error: {reconstruction_error}')\n"
   ]
  },
  {
   "cell_type": "code",
   "execution_count": 4,
   "metadata": {},
   "outputs": [
    {
     "name": "stdout",
     "output_type": "stream",
     "text": [
      "Tensor Ring cores:\n",
      "(1, 5, 3)\n",
      "(3, 6, 4)\n",
      "(4, 7, 1)\n",
      "Reconstruction error: 2.9858576319395507\n"
     ]
    }
   ],
   "source": [
    "import tensorly as tl\n",
    "from tensorly.decomposition import tensor_ring\n",
    "import numpy as np\n",
    "\n",
    "# Generate a random tensor of shape (5, 6, 7)\n",
    "tensor = tl.tensor(np.random.random((5, 6, 7)))\n",
    "\n",
    "# Define the ranks for the Tensor Ring decomposition\n",
    "# The rank controls the size of the internal TR cores\n",
    "rank = [1, 3, 4, 1]  # Rank size is len(shape) + 1, so for 3D tensor: 1 (boundary), 3, 4, 1\n",
    "\n",
    "# Perform Tensor Ring decomposition\n",
    "tr_factors = tensor_ring(tensor, rank=rank)\n",
    "\n",
    "# Print the decomposed TR cores\n",
    "print(\"Tensor Ring cores:\")\n",
    "for core in tr_factors:\n",
    "    print(core.shape)\n",
    "\n",
    "# Reconstruct the tensor from the Tensor Ring factors\n",
    "reconstructed_tensor = tl.tr_to_tensor(tr_factors)\n",
    "\n",
    "# Compare the original and reconstructed tensor\n",
    "reconstruction_error = tl.norm(tensor - reconstructed_tensor)\n",
    "print(f'Reconstruction error: {reconstruction_error}')"
   ]
  },
  {
   "cell_type": "code",
   "execution_count": 9,
   "metadata": {},
   "outputs": [
    {
     "name": "stdout",
     "output_type": "stream",
     "text": [
      "Rank: 1\n",
      "Tensor Ring cores:\n",
      "(1, 5, 1)\n",
      "(1, 6, 1)\n",
      "(1, 7, 1)\n",
      "Reconstruction error: 3.843758838645645\n",
      "\n",
      "Rank: 2\n",
      "Tensor Ring cores:\n",
      "(2, 5, 2)\n",
      "(2, 6, 2)\n",
      "(2, 7, 2)\n",
      "Reconstruction error: 3.225308282212355\n",
      "\n",
      "Rank: [1, 3, 4, 1]\n",
      "Tensor Ring cores:\n",
      "(1, 5, 3)\n",
      "(3, 6, 4)\n",
      "(4, 7, 1)\n",
      "Reconstruction error: 2.5095955746006102\n",
      "\n"
     ]
    }
   ],
   "source": [
    "import tensorly as tl\n",
    "from tensorly.decomposition import tensor_ring\n",
    "import numpy as np\n",
    "\n",
    "# Generate a random tensor of shape (5, 6, 7)\n",
    "tensor = tl.tensor(np.random.random((5, 6, 7)))\n",
    "\n",
    "# Define the ranks for the Tensor Ring decomposition\n",
    "# The rank controls the size of the internal TR cores\n",
    "rank = 2  # Rank size is len(shape) + 1, so for 3D tensor: 1 (boundary), 3, 4, 1\n",
    "\n",
    "ranks = [1, 2, [1, 3, 4, 1]]\n",
    "\n",
    "for rank in ranks:\n",
    "    print(f'Rank: {rank}')\n",
    "\n",
    "    # Perform Tensor Ring decomposition\n",
    "    tr_factors = tensor_ring(tensor, rank=rank)\n",
    "\n",
    "    # Print the decomposed TR cores\n",
    "    print(\"Tensor Ring cores:\")\n",
    "    for core in tr_factors:\n",
    "        print(core.shape)\n",
    "\n",
    "    # Reconstruct the tensor from the Tensor Ring factors\n",
    "    reconstructed_tensor = tl.tr_to_tensor(tr_factors)\n",
    "\n",
    "    # Compare the original and reconstructed tensor\n",
    "    reconstruction_error = tl.norm(tensor - reconstructed_tensor)\n",
    "    print(f'Reconstruction error: {reconstruction_error}')\n",
    "    print()"
   ]
  },
  {
   "cell_type": "code",
   "execution_count": 10,
   "metadata": {},
   "outputs": [
    {
     "ename": "ImportError",
     "evalue": "cannot import name 'tensor_ring_als' from 'tensorly.decomposition' (/Users/keisukeonoue/ws/constrained_BO_v2/bo-env_v2/lib/python3.12/site-packages/tensorly/decomposition/__init__.py)",
     "output_type": "error",
     "traceback": [
      "\u001b[0;31m---------------------------------------------------------------------------\u001b[0m",
      "\u001b[0;31mImportError\u001b[0m                               Traceback (most recent call last)",
      "Cell \u001b[0;32mIn[10], line 1\u001b[0m\n\u001b[0;32m----> 1\u001b[0m \u001b[38;5;28;01mfrom\u001b[39;00m \u001b[38;5;21;01mtensorly\u001b[39;00m\u001b[38;5;21;01m.\u001b[39;00m\u001b[38;5;21;01mdecomposition\u001b[39;00m \u001b[38;5;28;01mimport\u001b[39;00m tensor_ring_als\n",
      "\u001b[0;31mImportError\u001b[0m: cannot import name 'tensor_ring_als' from 'tensorly.decomposition' (/Users/keisukeonoue/ws/constrained_BO_v2/bo-env_v2/lib/python3.12/site-packages/tensorly/decomposition/__init__.py)"
     ]
    }
   ],
   "source": [
    "from tensorly.decomposition import tensor_ring_als"
   ]
  },
  {
   "cell_type": "code",
   "execution_count": 11,
   "metadata": {},
   "outputs": [
    {
     "name": "stderr",
     "output_type": "stream",
     "text": [
      "python(82362) MallocStackLogging: can't turn off malloc stack logging because it was not enabled.\n"
     ]
    },
    {
     "name": "stdout",
     "output_type": "stream",
     "text": [
      "\"\"\"\n",
      "The :mod:`tensorly.decomposition` module includes utilities for performing\n",
      "tensor decomposition such as CANDECOMP-PARAFAC and Tucker.                                                                                               \n",
      "\"\"\"\n",
      "\n",
      "from ._cp import parafac, CP, RandomizedCP, randomised_parafac, sample_khatri_rao\n",
      "from ._nn_cp import non_negative_parafac, non_negative_parafac_hals, CP_NN_HALS, CP_NN\n",
      "from ._tucker import (\n",
      "    tucker,\n",
      "    partial_tucker,\n",
      "    non_negative_tucker,\n",
      "    non_negative_tucker_hals,\n",
      "    Tucker,\n",
      ")\n",
      "from .robust_decomposition import robust_pca\n",
      "from ._tt import tensor_train, tensor_train_matrix\n",
      "from ._tt import TensorTrain, TensorTrainMatrix\n",
      "from ._tr import tensor_ring, TensorRing\n",
      "from ._parafac2 import parafac2, Parafac2\n",
      "from ._symmetric_cp import (\n",
      "    symmetric_parafac_power_iteration,\n",
      "    symmetric_power_iteration,\n",
      "    SymmetricCP,\n",
      ")\n",
      "from ._cp_power import parafac_power_iteration, power_iteration, CPPower\n",
      "from ._cmtf_als import coupled_matrix_tensor_3d_factorization\n",
      "from ._constrained_cp import constrained_parafac, ConstrainedCP\n",
      "\n",
      "# Deprecated\n",
      "from ._tt import matrix_product_state\n"
     ]
    }
   ],
   "source": [
    "! cat /Users/keisukeonoue/ws/constrained_BO_v2/bo-env_v2/lib/python3.12/site-packages/tensorly/decomposition/__init__.py"
   ]
  },
  {
   "cell_type": "code",
   "execution_count": 12,
   "metadata": {},
   "outputs": [
    {
     "name": "stderr",
     "output_type": "stream",
     "text": [
      "python(82472) MallocStackLogging: can't turn off malloc stack logging because it was not enabled.\n"
     ]
    },
    {
     "name": "stdout",
     "output_type": "stream",
     "text": [
      "Name: tensorly\n",
      "Version: 0.8.1\n",
      "Summary: Tensor learning in Python.\n",
      "Home-page: https://github.com/tensorly/tensorly\n",
      "Author: Jean Kossaifi\n",
      "Author-email: jean.kossaifi@gmail.com\n",
      "License: Modified BSD\n",
      "Location: /Users/keisukeonoue/ws/constrained_BO_v2/bo-env_v2/lib/python3.12/site-packages\n",
      "Requires: numpy, scipy\n",
      "Required-by: \n"
     ]
    }
   ],
   "source": [
    "! pip show tensorly"
   ]
  },
  {
   "cell_type": "code",
   "execution_count": 13,
   "metadata": {},
   "outputs": [
    {
     "name": "stdout",
     "output_type": "stream",
     "text": [
      "\"\"\"\n",
      "The :mod:`tensorly.decomposition` module includes utilities for performing\n",
      "tensor decomposition such as CANDECOMP-PARAFAC and Tucker.                                                                                               \n",
      "\"\"\"\n",
      "\n",
      "from ._cp import parafac, CP, RandomizedCP, randomised_parafac, sample_khatri_rao\n",
      "from ._nn_cp import non_negative_parafac, non_negative_parafac_hals, CP_NN_HALS, CP_NN\n",
      "from ._tucker import (\n",
      "    tucker,\n",
      "    partial_tucker,\n",
      "    non_negative_tucker,\n",
      "    non_negative_tucker_hals,\n",
      "    Tucker,\n",
      ")\n",
      "from .robust_decomposition import robust_pca\n",
      "from ._tt import tensor_train, tensor_train_matrix\n",
      "from ._tt import TensorTrain, TensorTrainMatrix\n",
      "from ._tr_svd import tensor_ring, TensorRing\n",
      "from ._tr_als import (\n",
      "    tensor_ring_als,\n",
      "    tensor_ring_als_sampled,\n",
      "    TensorRingALS,\n",
      "    TensorRingALSSampled,\n",
      ")\n",
      "from ._parafac2 import parafac2, Parafac2\n",
      "from ._symmetric_cp import (\n",
      "    symmetric_parafac_power_iteration,\n",
      "    symmetric_power_iteration,\n",
      "    SymmetricCP,\n",
      ")\n",
      "from ._cp_power import parafac_power_iteration, power_iteration, CPPower\n",
      "from ._cmtf_als import coupled_matrix_tensor_3d_factorization\n",
      "from ._constrained_cp import constrained_parafac, ConstrainedCP\n"
     ]
    },
    {
     "name": "stderr",
     "output_type": "stream",
     "text": [
      "python(82684) MallocStackLogging: can't turn off malloc stack logging because it was not enabled.\n"
     ]
    }
   ],
   "source": [
    "! cat /Users/keisukeonoue/ws/constrained_BO_v2/bo-env_v2/lib/python3.12/site-packages/tensorly/decomposition/__init__.py"
   ]
  },
  {
   "cell_type": "code",
   "execution_count": 15,
   "metadata": {},
   "outputs": [
    {
     "name": "stdout",
     "output_type": "stream",
     "text": [
      "Rank: 1\n",
      "Tensor Train cores:\n",
      "(1, 5, 1)\n",
      "(1, 6, 1)\n",
      "(1, 7, 1)\n",
      "Reconstruction error: 4.0591672038451385\n",
      "\n",
      "Rank: 2\n",
      "Tensor Train cores:\n",
      "(1, 5, 2)\n",
      "(2, 6, 2)\n",
      "(2, 7, 1)\n",
      "Reconstruction error: 3.471388831600564\n",
      "\n",
      "Rank: 3\n",
      "Tensor Train cores:\n",
      "(1, 5, 3)\n",
      "(3, 6, 3)\n",
      "(3, 7, 1)\n",
      "Reconstruction error: 2.7951323198071054\n",
      "\n",
      "Rank: 4\n",
      "Tensor Train cores:\n",
      "(1, 5, 4)\n",
      "(4, 6, 4)\n",
      "(4, 7, 1)\n",
      "Reconstruction error: 2.1279481418063892\n",
      "\n",
      "Rank: [1, 3, 4, 1]\n",
      "Tensor Train cores:\n",
      "(1, 5, 3)\n",
      "(3, 6, 4)\n",
      "(4, 7, 1)\n",
      "Reconstruction error: 2.5251417343637383\n",
      "\n"
     ]
    }
   ],
   "source": [
    "import tensorly as tl\n",
    "from tensorly.decomposition import tensor_train\n",
    "import numpy as np\n",
    "\n",
    "# Generate a random tensor of shape (5, 6, 7)\n",
    "tensor = tl.tensor(np.random.random((5, 6, 7)))\n",
    "\n",
    "# Define the ranks for the Tensor Train decomposition\n",
    "# The rank controls the size of the internal TT cores\n",
    "ranks = [1, 2, 3, 4, [1, 3, 4, 1]]\n",
    "\n",
    "for rank in ranks:\n",
    "    print(f'Rank: {rank}')\n",
    "\n",
    "    # Perform Tensor Train decomposition\n",
    "    tt_factors = tensor_train(tensor, rank=rank)\n",
    "\n",
    "    # Print the decomposed TT cores\n",
    "    print(\"Tensor Train cores:\")\n",
    "    for core in tt_factors:\n",
    "        print(core.shape)\n",
    "\n",
    "    # Reconstruct the tensor from the Tensor Train factors\n",
    "    reconstructed_tensor = tl.tt_to_tensor(tt_factors)\n",
    "\n",
    "    # Compare the original and reconstructed tensor\n",
    "    reconstruction_error = tl.norm(tensor - reconstructed_tensor)\n",
    "    print(f'Reconstruction error: {reconstruction_error}')\n",
    "    print()\n"
   ]
  },
  {
   "cell_type": "code",
   "execution_count": null,
   "metadata": {},
   "outputs": [],
   "source": []
  },
  {
   "cell_type": "code",
   "execution_count": null,
   "metadata": {},
   "outputs": [],
   "source": []
  },
  {
   "cell_type": "code",
   "execution_count": null,
   "metadata": {},
   "outputs": [],
   "source": []
  },
  {
   "cell_type": "code",
   "execution_count": null,
   "metadata": {},
   "outputs": [],
   "source": []
  },
  {
   "cell_type": "code",
   "execution_count": null,
   "metadata": {},
   "outputs": [],
   "source": []
  },
  {
   "cell_type": "code",
   "execution_count": null,
   "metadata": {},
   "outputs": [],
   "source": []
  }
 ],
 "metadata": {
  "kernelspec": {
   "display_name": "bo-env_v2",
   "language": "python",
   "name": "python3"
  },
  "language_info": {
   "codemirror_mode": {
    "name": "ipython",
    "version": 3
   },
   "file_extension": ".py",
   "mimetype": "text/x-python",
   "name": "python",
   "nbconvert_exporter": "python",
   "pygments_lexer": "ipython3",
   "version": "3.12.7"
  }
 },
 "nbformat": 4,
 "nbformat_minor": 2
}
